{
 "cells": [
  {
   "cell_type": "code",
   "execution_count": 1,
   "metadata": {},
   "outputs": [],
   "source": [
    "import polars as pl , glob , numpy as np,os"
   ]
  },
  {
   "cell_type": "code",
   "execution_count": 4,
   "metadata": {},
   "outputs": [
    {
     "data": {
      "text/html": [
       "<div><style>\n",
       ".dataframe > thead > tr,\n",
       ".dataframe > tbody > tr {\n",
       "  text-align: right;\n",
       "  white-space: pre-wrap;\n",
       "}\n",
       "</style>\n",
       "<small>shape: (100, 30)</small><table border=\"1\" class=\"dataframe\"><thead><tr><th>bidId</th><th>time_stamp</th><th>cookieId</th><th>user_agent</th><th>ip_addr</th><th>region</th><th>city</th><th>exchange</th><th>domain</th><th>url</th><th>anonymousURL</th><th>adslotid</th><th>adslotwidth</th><th>adslotheight</th><th>adslotvisibility</th><th>adslotformat</th><th>adslotfloorprice</th><th>creativeid</th><th>bidding_price</th><th>advertiser_id</th><th>user_profile_id</th><th>impression_bool</th><th>click_bool</th><th>conversion_bool</th><th>paying_price</th><th>landing_url</th><th>final_user_profile_id</th><th>date</th><th>time_block</th><th>day_of_week</th></tr><tr><td>str</td><td>i64</td><td>str</td><td>str</td><td>str</td><td>i64</td><td>i64</td><td>i64</td><td>str</td><td>str</td><td>str</td><td>str</td><td>i64</td><td>i64</td><td>i64</td><td>i64</td><td>i64</td><td>str</td><td>i64</td><td>i64</td><td>str</td><td>bool</td><td>bool</td><td>bool</td><td>i64</td><td>str</td><td>str</td><td>date</td><td>i32</td><td>i8</td></tr></thead><tbody><tr><td>&quot;b382c1c156dcbbd5b9317cb50f6a74…</td><td>20130606000104008</td><td>&quot;Vh16OwT6OQNUXbj&quot;</td><td>&quot;mozilla/4.0 (compatible; msie …</td><td>&quot;180.127.189.*&quot;</td><td>80</td><td>87</td><td>1</td><td>&quot;tFKETuqyMo1mjMp45SqfNX&quot;</td><td>&quot;249b2c34247d400ef1cd3c6bfda4f1…</td><td>null</td><td>&quot;mm_11402872_1272384_3182279&quot;</td><td>300</td><td>250</td><td>1</td><td>1</td><td>0</td><td>&quot;00fccc64a1ee2809348509b7ac2a97…</td><td>227</td><td>3427</td><td>&quot;null&quot;</td><td>false</td><td>false</td><td>false</td><td>null</td><td>null</td><td>null</td><td>2013-06-06</td><td>0</td><td>4</td></tr><tr><td>&quot;7b6195de0d14203f92001da653bf1d…</td><td>20130606000104009</td><td>&quot;Vhkr1vpROHuhQWB&quot;</td><td>&quot;Mozilla/4.0 (compatible; MSIE …</td><td>&quot;113.119.105.*&quot;</td><td>216</td><td>217</td><td>2</td><td>&quot;trqRTuToMTNUjM9r5rMi&quot;</td><td>&quot;74419a072f8927222a1fd8aaa18cce…</td><td>null</td><td>&quot;433287550&quot;</td><td>468</td><td>60</td><td>1</td><td>0</td><td>5</td><td>&quot;2f88fc9cf0141b5bbaf251cab07f4c…</td><td>300</td><td>3386</td><td>&quot;null&quot;</td><td>true</td><td>false</td><td>false</td><td>18</td><td>&quot;361e128affece850342293213691a0…</td><td>&quot;null&quot;</td><td>2013-06-06</td><td>0</td><td>4</td></tr><tr><td>&quot;2ea9fe21cf7350fcb5696d8cff0bbe…</td><td>20130606000104012</td><td>&quot;VhKdLnuY3tlhXMa&quot;</td><td>&quot;mozilla/4.0 (compatible; msie …</td><td>&quot;42.184.148.*&quot;</td><td>65</td><td>69</td><td>1</td><td>&quot;trqRTvpogNlyDok4JKTI&quot;</td><td>&quot;134db65c2b66d8468d00bf42fd9f91…</td><td>null</td><td>&quot;mm_10032051_2374052_9219530&quot;</td><td>950</td><td>90</td><td>1</td><td>1</td><td>0</td><td>&quot;23d6dade7ed21cea308205b3759400…</td><td>227</td><td>3427</td><td>&quot;null&quot;</td><td>false</td><td>false</td><td>false</td><td>null</td><td>null</td><td>null</td><td>2013-06-06</td><td>0</td><td>4</td></tr><tr><td>&quot;8a15b98c8f9e60d4f92aaab01acf52…</td><td>20130606000104014</td><td>&quot;VhTVORqG36N6qMj&quot;</td><td>&quot;mozilla/5.0 (windows nt 5.1) a…</td><td>&quot;114.100.37.*&quot;</td><td>106</td><td>117</td><td>1</td><td>&quot;lsxSl559Xql7FmMs&quot;</td><td>&quot;8c9742e63497713b97ac7e780a8f9a…</td><td>null</td><td>&quot;mm_30232185_2681382_11190685&quot;</td><td>950</td><td>90</td><td>0</td><td>1</td><td>0</td><td>&quot;23d6dade7ed21cea308205b3759400…</td><td>227</td><td>3427</td><td>&quot;null&quot;</td><td>true</td><td>false</td><td>false</td><td>207</td><td>&quot;b2e35064f3549d447edbbdfb1f707c…</td><td>&quot;10063,10684,10083,13403,10059,…</td><td>2013-06-06</td><td>0</td><td>4</td></tr><tr><td>&quot;faf17eac9cabf1be598f4e75f40d50…</td><td>20130606000104016</td><td>&quot;VhL01pk8OTkW3Mc&quot;</td><td>&quot;mozilla/5.0 (windows nt 5.1) a…</td><td>&quot;58.100.240.*&quot;</td><td>94</td><td>95</td><td>1</td><td>&quot;tK1NTu1YP5scFsf&quot;</td><td>&quot;e22930480589abcc1468854cb34033…</td><td>null</td><td>&quot;mm_10075660_3500949_11453278&quot;</td><td>950</td><td>90</td><td>0</td><td>1</td><td>0</td><td>&quot;d5cecca9a6cbd7a0a48110f1306b26…</td><td>227</td><td>3358</td><td>&quot;null&quot;</td><td>true</td><td>false</td><td>false</td><td>108</td><td>&quot;d29e59bf0f7f8243858b8183f14d44…</td><td>&quot;10059,13866,10063,10111&quot;</td><td>2013-06-06</td><td>0</td><td>4</td></tr><tr><td>&hellip;</td><td>&hellip;</td><td>&hellip;</td><td>&hellip;</td><td>&hellip;</td><td>&hellip;</td><td>&hellip;</td><td>&hellip;</td><td>&hellip;</td><td>&hellip;</td><td>&hellip;</td><td>&hellip;</td><td>&hellip;</td><td>&hellip;</td><td>&hellip;</td><td>&hellip;</td><td>&hellip;</td><td>&hellip;</td><td>&hellip;</td><td>&hellip;</td><td>&hellip;</td><td>&hellip;</td><td>&hellip;</td><td>&hellip;</td><td>&hellip;</td><td>&hellip;</td><td>&hellip;</td><td>&hellip;</td><td>&hellip;</td><td>&hellip;</td></tr><tr><td>&quot;5461589ac8f2672f413a5c5993c768…</td><td>20130606000104191</td><td>&quot;null&quot;</td><td>&quot;mozilla/4.0 (compatible; msie …</td><td>&quot;113.111.121.*&quot;</td><td>216</td><td>217</td><td>1</td><td>&quot;tFKETuqyMo1mjMp45SqfNX&quot;</td><td>&quot;249b2c34247d400ef1cd3c6bfda4f1…</td><td>null</td><td>&quot;mm_11402872_1272384_3182279&quot;</td><td>300</td><td>250</td><td>1</td><td>1</td><td>0</td><td>&quot;d881a6c788e76c2c27ed1ef04f1195…</td><td>227</td><td>3358</td><td>&quot;null&quot;</td><td>false</td><td>false</td><td>false</td><td>null</td><td>null</td><td>null</td><td>2013-06-06</td><td>0</td><td>4</td></tr><tr><td>&quot;42793ee70a154896e5ec829f2b15ee…</td><td>20130606000104193</td><td>&quot;Vhkr1uq-OtsPwdC&quot;</td><td>&quot;mozilla/4.0 (compatible; msie …</td><td>&quot;118.182.244.*&quot;</td><td>344</td><td>350</td><td>1</td><td>&quot;DFpETuxoGQdcFNKbuKz&quot;</td><td>&quot;ec29cecc6ec5e25077a01f13fde25e…</td><td>null</td><td>&quot;mm_10024662_3445902_11178345&quot;</td><td>336</td><td>280</td><td>2</td><td>1</td><td>0</td><td>&quot;13606a7c541dcd9ca1948875a760bb…</td><td>227</td><td>3358</td><td>&quot;null&quot;</td><td>true</td><td>false</td><td>false</td><td>14</td><td>&quot;d29e59bf0f7f8243858b8183f14d44…</td><td>&quot;10006,10110&quot;</td><td>2013-06-06</td><td>0</td><td>4</td></tr><tr><td>&quot;20fb85784972aebed3dda8d20ca87a…</td><td>20130606000104193</td><td>&quot;VhkSPnNDP8L8eYl&quot;</td><td>&quot;opera/9.80 (android; opera min…</td><td>&quot;58.67.157.*&quot;</td><td>216</td><td>217</td><td>1</td><td>&quot;trqRTuS8jZL7FmMs&quot;</td><td>&quot;1eb132233cd79996f8abdd03e2de66…</td><td>null</td><td>&quot;mm_40468498_3493773_11415894&quot;</td><td>300</td><td>250</td><td>0</td><td>5</td><td>0</td><td>&quot;d881a6c788e76c2c27ed1ef04f1195…</td><td>227</td><td>3358</td><td>&quot;null&quot;</td><td>true</td><td>false</td><td>false</td><td>89</td><td>&quot;d29e59bf0f7f8243858b8183f14d44…</td><td>&quot;13866,10111&quot;</td><td>2013-06-06</td><td>0</td><td>4</td></tr><tr><td>&quot;74b623ca47722bcd38fb0fed45ea64…</td><td>20130606000104194</td><td>&quot;null&quot;</td><td>&quot;mozilla/5.0 (compatible; msie …</td><td>&quot;175.155.0.*&quot;</td><td>276</td><td>283</td><td>1</td><td>&quot;DFF4V19RQqsNgMb4uSFK&quot;</td><td>&quot;1ee9b2fdabd6a2b45d3829c71642fe…</td><td>null</td><td>&quot;mm_10839307_2308336_8945041&quot;</td><td>950</td><td>90</td><td>0</td><td>1</td><td>0</td><td>&quot;23d6dade7ed21cea308205b3759400…</td><td>227</td><td>3427</td><td>&quot;null&quot;</td><td>true</td><td>false</td><td>false</td><td>66</td><td>&quot;b2e35064f3549d447edbbdfb1f707c…</td><td>&quot;10006,10110&quot;</td><td>2013-06-06</td><td>0</td><td>4</td></tr><tr><td>&quot;fa4653a258238b757949cf544b9d34…</td><td>20130606000104196</td><td>&quot;VhLEZnNQP2jstdR&quot;</td><td>&quot;Mozilla/4.0 (compatible; MSIE …</td><td>&quot;182.243.154.*&quot;</td><td>308</td><td>322</td><td>2</td><td>&quot;trqRTuN-XIuc1mKYUV&quot;</td><td>&quot;b9b27f86cd5409b505b66e27470765…</td><td>null</td><td>&quot;1709226045&quot;</td><td>728</td><td>90</td><td>1</td><td>0</td><td>5</td><td>&quot;4b724cd63dfb905ebcd54e64572c64…</td><td>238</td><td>3427</td><td>&quot;null&quot;</td><td>false</td><td>false</td><td>false</td><td>null</td><td>null</td><td>null</td><td>2013-06-06</td><td>0</td><td>4</td></tr></tbody></table></div>"
      ],
      "text/plain": [
       "shape: (100, 30)\n",
       "┌───────────┬───────────┬───────────┬───────────┬───┬───────────┬───────────┬───────────┬──────────┐\n",
       "│ bidId     ┆ time_stam ┆ cookieId  ┆ user_agen ┆ … ┆ final_use ┆ date      ┆ time_bloc ┆ day_of_w │\n",
       "│ ---       ┆ p         ┆ ---       ┆ t         ┆   ┆ r_profile ┆ ---       ┆ k         ┆ eek      │\n",
       "│ str       ┆ ---       ┆ str       ┆ ---       ┆   ┆ _id       ┆ date      ┆ ---       ┆ ---      │\n",
       "│           ┆ i64       ┆           ┆ str       ┆   ┆ ---       ┆           ┆ i32       ┆ i8       │\n",
       "│           ┆           ┆           ┆           ┆   ┆ str       ┆           ┆           ┆          │\n",
       "╞═══════════╪═══════════╪═══════════╪═══════════╪═══╪═══════════╪═══════════╪═══════════╪══════════╡\n",
       "│ b382c1c15 ┆ 201306060 ┆ Vh16OwT6O ┆ mozilla/4 ┆ … ┆ null      ┆ 2013-06-0 ┆ 0         ┆ 4        │\n",
       "│ 6dcbbd5b9 ┆ 00104008  ┆ QNUXbj    ┆ .0 (compa ┆   ┆           ┆ 6         ┆           ┆          │\n",
       "│ 317cb50f6 ┆           ┆           ┆ tible;    ┆   ┆           ┆           ┆           ┆          │\n",
       "│ a74…      ┆           ┆           ┆ msie …    ┆   ┆           ┆           ┆           ┆          │\n",
       "│ 7b6195de0 ┆ 201306060 ┆ Vhkr1vpRO ┆ Mozilla/4 ┆ … ┆ null      ┆ 2013-06-0 ┆ 0         ┆ 4        │\n",
       "│ d14203f92 ┆ 00104009  ┆ HuhQWB    ┆ .0 (compa ┆   ┆           ┆ 6         ┆           ┆          │\n",
       "│ 001da653b ┆           ┆           ┆ tible;    ┆   ┆           ┆           ┆           ┆          │\n",
       "│ f1d…      ┆           ┆           ┆ MSIE …    ┆   ┆           ┆           ┆           ┆          │\n",
       "│ 2ea9fe21c ┆ 201306060 ┆ VhKdLnuY3 ┆ mozilla/4 ┆ … ┆ null      ┆ 2013-06-0 ┆ 0         ┆ 4        │\n",
       "│ f7350fcb5 ┆ 00104012  ┆ tlhXMa    ┆ .0 (compa ┆   ┆           ┆ 6         ┆           ┆          │\n",
       "│ 696d8cff0 ┆           ┆           ┆ tible;    ┆   ┆           ┆           ┆           ┆          │\n",
       "│ bbe…      ┆           ┆           ┆ msie …    ┆   ┆           ┆           ┆           ┆          │\n",
       "│ 8a15b98c8 ┆ 201306060 ┆ VhTVORqG3 ┆ mozilla/5 ┆ … ┆ 10063,106 ┆ 2013-06-0 ┆ 0         ┆ 4        │\n",
       "│ f9e60d4f9 ┆ 00104014  ┆ 6N6qMj    ┆ .0        ┆   ┆ 84,10083, ┆ 6         ┆           ┆          │\n",
       "│ 2aaab01ac ┆           ┆           ┆ (windows  ┆   ┆ 13403,100 ┆           ┆           ┆          │\n",
       "│ f52…      ┆           ┆           ┆ nt 5.1)   ┆   ┆ 59,…      ┆           ┆           ┆          │\n",
       "│           ┆           ┆           ┆ a…        ┆   ┆           ┆           ┆           ┆          │\n",
       "│ faf17eac9 ┆ 201306060 ┆ VhL01pk8O ┆ mozilla/5 ┆ … ┆ 10059,138 ┆ 2013-06-0 ┆ 0         ┆ 4        │\n",
       "│ cabf1be59 ┆ 00104016  ┆ TkW3Mc    ┆ .0        ┆   ┆ 66,10063, ┆ 6         ┆           ┆          │\n",
       "│ 8f4e75f40 ┆           ┆           ┆ (windows  ┆   ┆ 10111     ┆           ┆           ┆          │\n",
       "│ d50…      ┆           ┆           ┆ nt 5.1)   ┆   ┆           ┆           ┆           ┆          │\n",
       "│           ┆           ┆           ┆ a…        ┆   ┆           ┆           ┆           ┆          │\n",
       "│ …         ┆ …         ┆ …         ┆ …         ┆ … ┆ …         ┆ …         ┆ …         ┆ …        │\n",
       "│ 5461589ac ┆ 201306060 ┆ null      ┆ mozilla/4 ┆ … ┆ null      ┆ 2013-06-0 ┆ 0         ┆ 4        │\n",
       "│ 8f2672f41 ┆ 00104191  ┆           ┆ .0 (compa ┆   ┆           ┆ 6         ┆           ┆          │\n",
       "│ 3a5c5993c ┆           ┆           ┆ tible;    ┆   ┆           ┆           ┆           ┆          │\n",
       "│ 768…      ┆           ┆           ┆ msie …    ┆   ┆           ┆           ┆           ┆          │\n",
       "│ 42793ee70 ┆ 201306060 ┆ Vhkr1uq-O ┆ mozilla/4 ┆ … ┆ 10006,101 ┆ 2013-06-0 ┆ 0         ┆ 4        │\n",
       "│ a154896e5 ┆ 00104193  ┆ tsPwdC    ┆ .0 (compa ┆   ┆ 10        ┆ 6         ┆           ┆          │\n",
       "│ ec829f2b1 ┆           ┆           ┆ tible;    ┆   ┆           ┆           ┆           ┆          │\n",
       "│ 5ee…      ┆           ┆           ┆ msie …    ┆   ┆           ┆           ┆           ┆          │\n",
       "│ 20fb85784 ┆ 201306060 ┆ VhkSPnNDP ┆ opera/9.8 ┆ … ┆ 13866,101 ┆ 2013-06-0 ┆ 0         ┆ 4        │\n",
       "│ 972aebed3 ┆ 00104193  ┆ 8L8eYl    ┆ 0         ┆   ┆ 11        ┆ 6         ┆           ┆          │\n",
       "│ dda8d20ca ┆           ┆           ┆ (android; ┆   ┆           ┆           ┆           ┆          │\n",
       "│ 87a…      ┆           ┆           ┆ opera     ┆   ┆           ┆           ┆           ┆          │\n",
       "│           ┆           ┆           ┆ min…      ┆   ┆           ┆           ┆           ┆          │\n",
       "│ 74b623ca4 ┆ 201306060 ┆ null      ┆ mozilla/5 ┆ … ┆ 10006,101 ┆ 2013-06-0 ┆ 0         ┆ 4        │\n",
       "│ 7722bcd38 ┆ 00104194  ┆           ┆ .0 (compa ┆   ┆ 10        ┆ 6         ┆           ┆          │\n",
       "│ fb0fed45e ┆           ┆           ┆ tible;    ┆   ┆           ┆           ┆           ┆          │\n",
       "│ a64…      ┆           ┆           ┆ msie …    ┆   ┆           ┆           ┆           ┆          │\n",
       "│ fa4653a25 ┆ 201306060 ┆ VhLEZnNQP ┆ Mozilla/4 ┆ … ┆ null      ┆ 2013-06-0 ┆ 0         ┆ 4        │\n",
       "│ 8238b7579 ┆ 00104196  ┆ 2jstdR    ┆ .0 (compa ┆   ┆           ┆ 6         ┆           ┆          │\n",
       "│ 49cf544b9 ┆           ┆           ┆ tible;    ┆   ┆           ┆           ┆           ┆          │\n",
       "│ d34…      ┆           ┆           ┆ MSIE …    ┆   ┆           ┆           ┆           ┆          │\n",
       "└───────────┴───────────┴───────────┴───────────┴───┴───────────┴───────────┴───────────┴──────────┘"
      ]
     },
     "execution_count": 4,
     "metadata": {},
     "output_type": "execute_result"
    }
   ],
   "source": [
    "import polars as pl , glob , numpy as np,os\n",
    "class BiddingLazyframe:\n",
    "    def __init__(self, spec=-1, dataset_path=r'D:\\allcode\\hacks\\Devcraft25\\dataset'):\n",
    "        self.type = 'bid'\n",
    "        self.bid_columns = [\n",
    "            'bidId','time_stamp','cookieId','user_agent','ip_addr','region','city','exchange',\n",
    "            'domain','url','anonymousURL','adslotid','adslotwidth','adslotheight','adslotvisibility',\n",
    "            'adslotformat','adslotfloorprice','creativeid','bidding_price','advertiser_id','user_profile_id'\n",
    "        ]\n",
    "\n",
    "        self.other_columns = [\n",
    "            'bidId','time_stamp','log_type','cookieId','user_agent','ip_addr','region','city','exchange',\n",
    "            'domain','url','anonymousURL','adslotid','adslotwidth','adslotheight','adslotvisibility',\n",
    "            'adslotformat','adslotfloorprice','creativeid','bidding_price','paying_price','landing_url',\n",
    "            'advertiser_id','final_user_profile_id'\n",
    "        ]\n",
    "        \n",
    "        bid_dict_map = dict(map(lambda k: (f\"column_{k[0]+1}\",k[1]) , enumerate(self.bid_columns)))\n",
    "        other_dict_map = dict(map(lambda k: (f\"column_{k[0]+1}\",k[1]) , enumerate(self.other_columns)))\n",
    "        \n",
    "        \n",
    "        #define helper functions for preprocessing\n",
    "        load_lf = lambda type , spec, dataset_path: pl.concat([pl.scan_csv(file, separator='\\t', has_header=False) \n",
    "                                                               for file in glob.glob(f'{dataset_path}\\\\{type}.{'*' if spec == -1 else str(spec).zfill(2)}.txt')])\n",
    "        get_bidId_set = lambda x: set(load_lf(x,spec,dataset_path).select('column_1').collect()['column_1'].to_list())\n",
    "        add_col_from_set = lambda lf , type_set , col_name : lf.with_columns(pl.col('bidId').is_in(type_set).alias(col_name))\n",
    "        get_rem_cols_lazy = lambda lf, col_names, imp_lf: lf.join(imp_lf.select(['bidId'] + col_names), on='bidId', how='left')\n",
    "        \n",
    "        \n",
    "        \n",
    "        self.df = load_lf('bid',spec,dataset_path).rename(bid_dict_map)\n",
    "        self.impression , self.click , self.conversion = [get_bidId_set(attr) for attr in ['imp','clk','conv']]\n",
    "        self.df = add_col_from_set(self.df,self.impression,'impression_bool')\n",
    "        self.df = add_col_from_set(self.df,self.click,'click_bool')\n",
    "        self.df = add_col_from_set(self.df,self.conversion,'conversion_bool')\n",
    "        imp_lf = load_lf('imp', spec, dataset_path).rename(other_dict_map)\n",
    "        self.df = get_rem_cols_lazy(self.df, ['paying_price', 'landing_url', 'final_user_profile_id'], imp_lf)\n",
    "        self.df = self.df.with_columns([\n",
    "                    (pl.col(\"time_stamp\") // 1000000000).cast(pl.Utf8).str.strptime(pl.Date,'%Y%m%d').alias('date'),\n",
    "                    (\n",
    "                        ((pl.col(\"time_stamp\") // 1000000 % 100).cast(pl.Int32) * 4) +\n",
    "                        ((pl.col(\"time_stamp\") // 10000 % 100).cast(pl.Int32) // 15)\n",
    "                    ).alias(\"time_block\"),\n",
    "                    (pl.col(\"time_stamp\") // 1000000000).cast(pl.Utf8).str.strptime(pl.Date, \"%Y%m%d\").dt.weekday().alias(\"day_of_week\")\n",
    "        ])\n",
    "        \n",
    "    def write_to_directory(self, output_dir, by_col=\"advertiser_id\"):\n",
    "        if not os.path.exists(output_dir): os.makedirs(output_dir)\n",
    "        unique_groups = self.df.select(by_col).unique().collect()[by_col].to_list()\n",
    "        print(unique_groups)\n",
    "        for group in unique_groups:\n",
    "            print(f\"Processing group: {group}\")\n",
    "            lf_subset = self.df.filter(pl.col(by_col) == group)\n",
    "            lf_subset.sink_parquet(f\"{output_dir}/{group}.parquet\",compression='zstd',compression_level=12)\n",
    "            print(f\"Finished processing group: {group}\")\n",
    "        \n",
    "        \n",
    "lf = BiddingLazyframe()\n",
    "pl.Config.set_tbl_rows(100)\n",
    "data = lf.df.head(100).collect(streaming=True)\n",
    "pl.Config.restore_defaults()\n",
    "data"
   ]
  },
  {
   "cell_type": "code",
   "execution_count": null,
   "metadata": {},
   "outputs": [
    {
     "ename": "NameError",
     "evalue": "name 'pl' is not defined",
     "output_type": "error",
     "traceback": [
      "\u001b[1;31m---------------------------------------------------------------------------\u001b[0m",
      "\u001b[1;31mNameError\u001b[0m                                 Traceback (most recent call last)",
      "Cell \u001b[1;32mIn[1], line 1\u001b[0m\n\u001b[1;32m----> 1\u001b[0m \u001b[43mpl\u001b[49m\u001b[38;5;241m.\u001b[39mConfig\u001b[38;5;241m.\u001b[39mset_tbl_rows(\u001b[38;5;241m100\u001b[39m)\n\u001b[0;32m      2\u001b[0m lf\u001b[38;5;241m.\u001b[39mdf\u001b[38;5;241m.\u001b[39mhead(\u001b[38;5;241m100\u001b[39m)\u001b[38;5;241m.\u001b[39mcollect(streaming\u001b[38;5;241m=\u001b[39m\u001b[38;5;28;01mTrue\u001b[39;00m)\n\u001b[0;32m      3\u001b[0m pl\u001b[38;5;241m.\u001b[39mConfig\u001b[38;5;241m.\u001b[39mrestore_defaults()\n",
      "\u001b[1;31mNameError\u001b[0m: name 'pl' is not defined"
     ]
    }
   ],
   "source": []
  },
  {
   "cell_type": "code",
   "execution_count": null,
   "metadata": {},
   "outputs": [],
   "source": [
    "lf.write_to_directory('D:\\\\allcode\\\\hacks\\\\Devcraft25\\\\preprocessed')"
   ]
  },
  {
   "cell_type": "code",
   "execution_count": null,
   "metadata": {},
   "outputs": [],
   "source": []
  },
  {
   "cell_type": "code",
   "execution_count": null,
   "metadata": {},
   "outputs": [],
   "source": [
    "preprocessed_path = r\"D:\\allcode\\hacks\\Devcraft25\\preprocessed\"\n",
    "import glob, os, polars as pl\n",
    "from IPython.display import display\n",
    "preprocessed_files = glob.glob(f\"{preprocessed_path}/*.parquet\")\n",
    "comppressed_parquet_path = r\"D:\\allcode\\hacks\\Devcraft25\\comp_preprocessed\"\n",
    "\n",
    "if not os.path.exists(comppressed_parquet_path): os.makedirs(comppressed_parquet_path)\n",
    "for file in preprocessed_files:\n",
    "    print(f\"Loading {file}\")\n",
    "    df = pl.read_parquet(file)\n",
    "    display(df.head(100_000))\n",
    "    print(f\"Finished loading {file}\")"
   ]
  },
  {
   "cell_type": "code",
   "execution_count": null,
   "metadata": {},
   "outputs": [],
   "source": []
  }
 ],
 "metadata": {
  "kernelspec": {
   "display_name": "Python 3",
   "language": "python",
   "name": "python3"
  },
  "language_info": {
   "codemirror_mode": {
    "name": "ipython",
    "version": 3
   },
   "file_extension": ".py",
   "mimetype": "text/x-python",
   "name": "python",
   "nbconvert_exporter": "python",
   "pygments_lexer": "ipython3",
   "version": "3.12.6"
  }
 },
 "nbformat": 4,
 "nbformat_minor": 2
}
